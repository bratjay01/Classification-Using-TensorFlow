{
 "cells": [
  {
   "cell_type": "code",
   "execution_count": 7,
   "id": "f664375b-cbf0-4baf-854d-35f4cacb3348",
   "metadata": {},
   "outputs": [],
   "source": [
    "# Importing all necessary libraries\n",
    "from keras.preprocessing.image import ImageDataGenerator\n",
    "from keras.models import Sequential\n",
    "from keras.layers import Conv2D, MaxPooling2D\n",
    "from keras.layers import Activation, Dropout, Flatten, Dense\n",
    "from keras import backend as K\n",
    " \n",
    "img_width, img_height = 224, 224"
   ]
  },
  {
   "cell_type": "code",
   "execution_count": 8,
   "id": "be3f4346-63c6-40b2-a7ea-7d51629c2bdd",
   "metadata": {},
   "outputs": [],
   "source": [
    "\n",
    "train_data_dir = 'D:/Introduction_to_tensor_flow/v_data/train'\n",
    "validation_data_dir = 'D:/Introduction_to_tensor_flow/v_data/test'\n",
    "nb_train_samples =400\n",
    "nb_validation_samples = 100\n",
    "epochs = 10\n",
    "batch_size = 16"
   ]
  },
  {
   "cell_type": "code",
   "execution_count": 9,
   "id": "ca41394f-558f-46ce-b01a-7db70dd79fb4",
   "metadata": {},
   "outputs": [],
   "source": [
    "\n",
    "if K.image_data_format() == 'channels_first':\n",
    "    input_shape = (3, img_width, img_height)\n",
    "else:\n",
    "    input_shape = (img_width, img_height, 3)"
   ]
  },
  {
   "cell_type": "code",
   "execution_count": 10,
   "id": "3631fe6a-5466-4b14-a91f-2194b6fbd7c2",
   "metadata": {},
   "outputs": [],
   "source": [
    "#neural network\n",
    "model = Sequential()\n",
    "model.add(Conv2D(32, (2, 2), input_shape=input_shape))\n",
    "model.add(Activation('relu'))\n",
    "model.add(MaxPooling2D(pool_size=(2, 2)))\n",
    " \n",
    "model.add(Conv2D(32, (2, 2)))\n",
    "model.add(Activation('relu'))\n",
    "model.add(MaxPooling2D(pool_size=(2, 2)))\n",
    " \n",
    "model.add(Conv2D(64, (2, 2)))\n",
    "model.add(Activation('relu'))\n",
    "model.add(MaxPooling2D(pool_size=(2, 2)))\n",
    " \n",
    "model.add(Flatten())\n",
    "model.add(Dense(64))\n",
    "model.add(Activation('relu'))\n",
    "model.add(Dropout(0.5))\n",
    "model.add(Dense(1))\n",
    "model.add(Activation('sigmoid'))"
   ]
  },
  {
   "cell_type": "code",
   "execution_count": 11,
   "id": "e09ac33b-74b1-47c1-a871-2c4fab910f84",
   "metadata": {},
   "outputs": [],
   "source": [
    "\n",
    "model.compile(loss='binary_crossentropy',\n",
    "              optimizer='rmsprop',\n",
    "              metrics=['accuracy'])"
   ]
  },
  {
   "cell_type": "code",
   "execution_count": 12,
   "id": "0b53cb53-f7e7-4e2a-bc62-a35eab876064",
   "metadata": {},
   "outputs": [
    {
     "name": "stdout",
     "output_type": "stream",
     "text": [
      "Found 400 images belonging to 2 classes.\n",
      "Found 100 images belonging to 2 classes.\n",
      "Epoch 1/10\n",
      "25/25 [==============================] - 6s 120ms/step - loss: 1.1381 - accuracy: 0.6275 - val_loss: 0.4092 - val_accuracy: 0.8854\n",
      "Epoch 2/10\n",
      "25/25 [==============================] - 3s 117ms/step - loss: 0.4928 - accuracy: 0.7775 - val_loss: 0.4015 - val_accuracy: 0.8021\n",
      "Epoch 3/10\n",
      "25/25 [==============================] - 3s 111ms/step - loss: 0.4329 - accuracy: 0.8250 - val_loss: 0.4434 - val_accuracy: 0.7812\n",
      "Epoch 4/10\n",
      "25/25 [==============================] - 3s 110ms/step - loss: 0.3700 - accuracy: 0.8425 - val_loss: 0.3161 - val_accuracy: 0.8750\n",
      "Epoch 5/10\n",
      "25/25 [==============================] - 3s 105ms/step - loss: 0.3827 - accuracy: 0.8575 - val_loss: 0.2894 - val_accuracy: 0.8750\n",
      "Epoch 6/10\n",
      "25/25 [==============================] - 3s 107ms/step - loss: 0.3622 - accuracy: 0.8475 - val_loss: 0.2814 - val_accuracy: 0.8854\n",
      "Epoch 7/10\n",
      "25/25 [==============================] - 3s 107ms/step - loss: 0.3392 - accuracy: 0.8950 - val_loss: 0.2240 - val_accuracy: 0.9062\n",
      "Epoch 8/10\n",
      "25/25 [==============================] - 3s 111ms/step - loss: 0.2937 - accuracy: 0.8875 - val_loss: 0.6814 - val_accuracy: 0.7708\n",
      "Epoch 9/10\n",
      "25/25 [==============================] - 3s 109ms/step - loss: 0.2741 - accuracy: 0.8800 - val_loss: 0.2918 - val_accuracy: 0.8542\n",
      "Epoch 10/10\n",
      "25/25 [==============================] - 3s 108ms/step - loss: 0.2844 - accuracy: 0.8875 - val_loss: 0.2058 - val_accuracy: 0.9167\n"
     ]
    },
    {
     "data": {
      "text/plain": [
       "<keras.callbacks.History at 0x1cba7eb32e0>"
      ]
     },
     "execution_count": 12,
     "metadata": {},
     "output_type": "execute_result"
    }
   ],
   "source": [
    "\n",
    "train_datagen = ImageDataGenerator(\n",
    "    rescale=1. / 255,\n",
    "    shear_range=0.2,\n",
    "    zoom_range=0.2,\n",
    "    horizontal_flip=True)\n",
    " \n",
    "test_datagen = ImageDataGenerator(rescale=1. / 255)\n",
    " \n",
    "train_generator = train_datagen.flow_from_directory(\n",
    "    train_data_dir,\n",
    "    target_size=(img_width, img_height),\n",
    "    batch_size=batch_size,\n",
    "    class_mode='binary')\n",
    " \n",
    "validation_generator = test_datagen.flow_from_directory(\n",
    "    validation_data_dir,\n",
    "    target_size=(img_width, img_height),\n",
    "    batch_size=batch_size,\n",
    "    class_mode='binary')\n",
    " \n",
    "model.fit(\n",
    "    train_generator,\n",
    "    steps_per_epoch=nb_train_samples // batch_size,\n",
    "    epochs=epochs,\n",
    "    validation_data=validation_generator,\n",
    "    validation_steps=nb_validation_samples // batch_size)"
   ]
  },
  {
   "cell_type": "code",
   "execution_count": 13,
   "id": "4d2dec32-bf21-4ce5-a988-6c563db9c366",
   "metadata": {},
   "outputs": [],
   "source": [
    "\n",
    "model.save('D:/Introduction_to_tensor_flow/v_data/model_saved.h5')"
   ]
  },
  {
   "cell_type": "code",
   "execution_count": 17,
   "id": "a0413435-e718-4520-9f83-9b58249e7030",
   "metadata": {},
   "outputs": [
    {
     "name": "stdout",
     "output_type": "stream",
     "text": [
      "Predicted Class (0 - Cars , 1- Planes):  1\n"
     ]
    }
   ],
   "source": [
    "\n",
    "\n",
    "from keras.models import load_model\n",
    "from keras.preprocessing.image import load_img\n",
    "from keras.preprocessing.image import img_to_array\n",
    "from keras.applications.vgg16 import preprocess_input\n",
    "from keras.applications.vgg16 import decode_predictions\n",
    "from keras.applications.vgg16 import VGG16\n",
    "import numpy as np\n",
    " \n",
    "from keras.models import load_model\n",
    " \n",
    "new_model = load_model('D:/Introduction_to_tensor_flow/v_data/model_saved.h5')\n",
    "\n",
    "image = load_img('D:/Introduction_to_tensor_flow/v_data/test/planes/8.jpg', target_size=(224, 224))\n",
    "img = np.array(image)\n",
    "img = img / 255.0\n",
    "img = img.reshape(1,224,224,3)\n",
    "classes = (model.predict(img) > 0.5).astype(\"int32\")\n",
    "print(\"Predicted Class (0 - Cars , 1- Planes): \", classes[0][0])"
   ]
  },
  {
   "cell_type": "code",
   "execution_count": null,
   "id": "e67c92c6-5ea7-4016-a80b-f79465d3d209",
   "metadata": {},
   "outputs": [],
   "source": [
    "\n"
   ]
  },
  {
   "cell_type": "code",
   "execution_count": null,
   "id": "9f31660d-0dde-4f71-8384-385a993dfa22",
   "metadata": {},
   "outputs": [],
   "source": []
  }
 ],
 "metadata": {
  "kernelspec": {
   "display_name": "Python 3 (ipykernel)",
   "language": "python",
   "name": "python3"
  },
  "language_info": {
   "codemirror_mode": {
    "name": "ipython",
    "version": 3
   },
   "file_extension": ".py",
   "mimetype": "text/x-python",
   "name": "python",
   "nbconvert_exporter": "python",
   "pygments_lexer": "ipython3",
   "version": "3.8.12"
  }
 },
 "nbformat": 4,
 "nbformat_minor": 5
}
